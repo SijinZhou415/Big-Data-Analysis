{
 "cells": [
  {
   "cell_type": "markdown",
   "id": "dirty-monitoring",
   "metadata": {
    "deletable": false,
    "editable": false,
    "nbgrader": {
     "checksum": "0a8b253cea124309dc7872a31b41818e",
     "grade": false,
     "grade_id": "cell-b038e38b5e3072a9",
     "locked": true,
     "schema_version": 1,
     "solution": false
    }
   },
   "source": [
    "# IST 718: Big Data Analytics\n",
    "\n",
    "- Professor: Daniel Acuna <deacuna@syr.edu>\n",
    "\n",
    "## General instructions:\n",
    "\n",
    "- You are welcome to discuss the problems with your classmates but __you are not allowed to copy any part of your answers either from your classmates or from the internet__\n",
    "- You can put the homework files anywhere you want in your https://jupyterhub.ischool.syr.edu/ workspace but _do not change_ the file names. The TAs and the professor use these names to grade your homework.\n",
    "- Remove or comment out code that contains `raise NotImplementedError`. This is mainly to make the `assert` statement fail if nothing is submitted.\n",
    "- The tests shown in some cells (i.e., `assert` and `np.testing.` statements) are used to grade your answers. **However, the professor and TAs will use __additional__ test for your answer. Think about cases where your code should run even if it passess all the tests you see.**\n",
    "- Before downloading and submitting your work through Blackboard, remember to save and press `Validate` (or go to \n",
    "`Kernel`$\\rightarrow$`Restart and Run All`). \n",
    "- Good luck!"
   ]
  },
  {
   "cell_type": "code",
   "execution_count": 1,
   "id": "destroyed-scotland",
   "metadata": {
    "deletable": false,
    "editable": false,
    "nbgrader": {
     "checksum": "ef5f72ab3c2c900f039ed5f753e06b6c",
     "grade": false,
     "grade_id": "cell-a357d0688b9e7beb",
     "locked": true,
     "schema_version": 1,
     "solution": false
    }
   },
   "outputs": [],
   "source": [
    "# import packages\n",
    "import numpy as np\n",
    "import matplotlib.pyplot as plt"
   ]
  },
  {
   "cell_type": "markdown",
   "id": "united-hospital",
   "metadata": {},
   "source": [
    "# Part 3: Optimization"
   ]
  },
  {
   "cell_type": "markdown",
   "id": "extra-roman",
   "metadata": {
    "deletable": false,
    "editable": false,
    "nbgrader": {
     "checksum": "bca45b14e2ff64c683ba13c9a6e6385c",
     "grade": false,
     "grade_id": "cell-19a9da87652dc577",
     "locked": true,
     "schema_version": 1,
     "solution": false
    }
   },
   "source": [
    "The golden ratio is a beautiful number that appears all over nature and mathematics (see more https://en.wikipedia.org/wiki/Golden_ratio).\n",
    "\n",
    "It is defined as the solution of the following interesting relationship between the sum of two lengths $a$ and $b$ and their ratio $\\frac{a}{b}$:\n",
    "\n",
    "$$\\frac{a + b}{a}=\\frac{a}{b}\\equiv g$$\n",
    "\n",
    "which we can express as the solution of an equation after moving factors around\n",
    "\n",
    "\n",
    "$$\\frac{a}{a} + \\frac{b}{a}=\\frac{a}{b}\\equiv g$$\n",
    "\n",
    "and replacing gives the equation we must solve:\n",
    "\n",
    "$$1 + \\frac{1}{g}=g \\tag{1}$$\n",
    "\n",
    "We will further define the left hand side of (1) as \n",
    "$$\\text{lhs}(g)=1 + \\frac{1}{g}$$\n",
    "\n",
    "and the right-hand side as\n",
    "$$\\text{rhs}(g)=g$$\n",
    "\n",
    "In this section, we are going to compute the golder ratio using gradient descent."
   ]
  },
  {
   "cell_type": "markdown",
   "id": "intellectual-tower",
   "metadata": {},
   "source": [
    "**Question 3.1 (5 pts)** Simultaneously plot the right-hand side function and left-hand side function over the range of g in 0.5 and 2.5. Add the proper axis labels and legends to the plot. You can use the function `np.linspace` to generate a vector of numbers between 0.5 and 2.5. Try to intuitively think at which point both functions intersect."
   ]
  },
  {
   "cell_type": "code",
   "execution_count": 2,
   "id": "polish-three",
   "metadata": {
    "deletable": false,
    "nbgrader": {
     "checksum": "7c451920542551995d52d39442d44aaa",
     "grade": true,
     "grade_id": "cell-63422df7ec5d7f5d",
     "locked": false,
     "points": 5,
     "schema_version": 1,
     "solution": true
    }
   },
   "outputs": [
    {
     "data": {
      "image/png": "[encoded data removed]",
      "text/plain": [
       "<Figure size 432x288 with 1 Axes>"
      ]
     },
     "metadata": {
      "needs_background": "light"
     },
     "output_type": "display_data"
    }
   ],
   "source": [
    "# YOUR CODE HERE\n",
    "a=np.linspace(0.5,2.5)\n",
    "lhs=1+1/a\n",
    "rhs=a\n",
    "plt.plot(a,rhs,label=\"rhs(g)\")\n",
    "plt.plot(a,lhs,label=\"lhs(g)\")\n",
    "plt.legend()\n",
    "plt.xlabel(\"g\")\n",
    "plt.ylabel(\"f(g)\")\n",
    "plt.show()"
   ]
  },
  {
   "cell_type": "markdown",
   "id": "warming-separation",
   "metadata": {},
   "source": [
    "**Question 3.2 (10 pts)** Define a quadratic loss function `L` that penalizes the error (e.g., the difference) between the lhs and rhs for a given value of $g$."
   ]
  },
  {
   "cell_type": "code",
   "execution_count": 3,
   "id": "painted-canadian",
   "metadata": {
    "deletable": false,
    "nbgrader": {
     "checksum": "ce635b27f526fa8de3b861f3ae74ed94",
     "grade": false,
     "grade_id": "cell-e1ce69eada8a189a",
     "locked": false,
     "schema_version": 1,
     "solution": true
    }
   },
   "outputs": [],
   "source": [
    "def L(g):    \n",
    "    a=g\n",
    "    b=1+1/a\n",
    "    return (a-b)*(a-b)"
   ]
  },
  {
   "cell_type": "markdown",
   "id": "unable-irish",
   "metadata": {},
   "source": [
    "You can try your function below. We know that the golden ratio is closer to 1.5 than 1.0, therefore, your loss function should be bigger at `g=1.0` than `g=1.5`"
   ]
  },
  {
   "cell_type": "code",
   "execution_count": 4,
   "id": "combined-wrist",
   "metadata": {},
   "outputs": [
    {
     "name": "stdout",
     "output_type": "stream",
     "text": [
      "L(1.0)=1.00\n",
      "L(1.5)=0.03\n"
     ]
    }
   ],
   "source": [
    "print(f\"L(1.0)={L(1.0):.2f}\")\n",
    "print(f\"L(1.5)={L(1.5):.2f}\")"
   ]
  },
  {
   "cell_type": "code",
   "execution_count": 5,
   "id": "textile-baseball",
   "metadata": {
    "deletable": false,
    "editable": false,
    "nbgrader": {
     "checksum": "8f8ec72e9187b4051b9fa52b222ee033",
     "grade": true,
     "grade_id": "cell-7ce4ca9b658f924b",
     "locked": true,
     "points": 10,
     "schema_version": 1,
     "solution": false
    }
   },
   "outputs": [],
   "source": [
    "# 10 pts\n",
    "np.testing.assert_equal(L(1.0), 1.)\n",
    "assert L(1.0) > L(1.5)\n",
    "np.testing.assert_almost_equal(L(1.618033988749895), 0.)"
   ]
  },
  {
   "cell_type": "markdown",
   "id": "engaged-tours",
   "metadata": {},
   "source": [
    "**Question 3.3 (10 pts)** Define a function `dL` that is the derivative of the loss function with respect to g"
   ]
  },
  {
   "cell_type": "code",
   "execution_count": 6,
   "id": "reverse-completion",
   "metadata": {
    "deletable": false,
    "nbgrader": {
     "checksum": "36752c7ba4e6e060ac93937f8299e5a1",
     "grade": false,
     "grade_id": "cell-54984d4d072fad0c",
     "locked": false,
     "schema_version": 1,
     "solution": true
    }
   },
   "outputs": [],
   "source": [
    "# YOUR CODE HERE\n",
    "# raise NotImplementedError()\n",
    "\n",
    "def dL(g):\n",
    "    return 2*(1/(g*g)+1)*(g-1/g-1)"
   ]
  },
  {
   "cell_type": "markdown",
   "id": "labeled-cycle",
   "metadata": {},
   "source": [
    "You can try your function below. We know that from 1 you are getting closer to the golden ratio and after 2 your are getting away from it. Therefore, the derivative at 1 should be negative and 2 should be positive."
   ]
  },
  {
   "cell_type": "code",
   "execution_count": 7,
   "id": "sticky-empty",
   "metadata": {},
   "outputs": [
    {
     "name": "stdout",
     "output_type": "stream",
     "text": [
      "dL(1.0)=-4.00\n",
      "dL(2.0)=1.25\n"
     ]
    }
   ],
   "source": [
    "print(f\"dL(1.0)={dL(1.0):.2f}\")\n",
    "print(f\"dL(2.0)={dL(2.0):.2f}\")"
   ]
  },
  {
   "cell_type": "code",
   "execution_count": 8,
   "id": "other-montana",
   "metadata": {
    "deletable": false,
    "editable": false,
    "nbgrader": {
     "checksum": "9e0ed1e9289cdb3df2a18a3b4cd12f5f",
     "grade": true,
     "grade_id": "cell-01a6ea918c3152f5",
     "locked": true,
     "points": 10,
     "schema_version": 1,
     "solution": false
    }
   },
   "outputs": [],
   "source": [
    "# 10 points\n",
    "np.testing.assert_equal(dL(1.0), -4)\n",
    "np.testing.assert_equal(dL(2.0), 1.25)\n",
    "np.testing.assert_almost_equal(dL(1.618033988749895), 0.)"
   ]
  },
  {
   "cell_type": "markdown",
   "id": "final-hours",
   "metadata": {},
   "source": [
    "**Question 3.4 (5 pts)** The gradient descent code below is missing some pieces. Fix it so that the final value of g is close to the golden ratio (approximately 1.61)"
   ]
  },
  {
   "cell_type": "code",
   "execution_count": 9,
   "id": "adult-magnet",
   "metadata": {
    "deletable": false,
    "nbgrader": {
     "checksum": "51146d734a503377b53b64b6c57ffca0",
     "grade": false,
     "grade_id": "cell-de27dc0a1bc41ef8",
     "locked": false,
     "schema_version": 1,
     "solution": true
    }
   },
   "outputs": [
    {
     "name": "stdout",
     "output_type": "stream",
     "text": [
      "iteration 0\t\tg: 0.100000\t\tL:118.810000\t\tg:-2201.800000\n",
      "iteration 100\t\tg: 2.121571\t\tL:0.422790\t\tg:1.589365\n",
      "iteration 200\t\tg: 1.982615\t\tL:0.228704\t\tg:1.199787\n",
      "iteration 300\t\tg: 1.878639\t\tL:0.119951\t\tg:0.888943\n",
      "iteration 400\t\tg: 1.802248\t\tL:0.061200\t\tg:0.647099\n",
      "iteration 500\t\tg: 1.747055\t\tL:0.030507\t\tg:0.463778\n",
      "iteration 600\t\tg: 1.707744\t\tL:0.014927\t\tg:0.328140\n",
      "iteration 700\t\tg: 1.680068\t\tL:0.007200\t\tg:0.229830\n",
      "iteration 800\t\tg: 1.660755\t\tL:0.003436\t\tg:0.159746\n",
      "iteration 900\t\tg: 1.647369\t\tL:0.001627\t\tg:0.110410\n",
      "iteration 1000\t\tg: 1.638135\t\tL:0.000766\t\tg:0.076004\n",
      "iteration 1100\t\tg: 1.631788\t\tL:0.000360\t\tg:0.052170\n",
      "iteration 1200\t\tg: 1.627435\t\tL:0.000168\t\tg:0.035739\n",
      "iteration 1300\t\tg: 1.624456\t\tL:0.000079\t\tg:0.024449\n",
      "iteration 1400\t\tg: 1.622418\t\tL:0.000037\t\tg:0.016709\n",
      "iteration 1500\t\tg: 1.621026\t\tL:0.000017\t\tg:0.011412\n",
      "iteration 1600\t\tg: 1.620076\t\tL:0.000008\t\tg:0.007791\n",
      "iteration 1700\t\tg: 1.619427\t\tL:0.000004\t\tg:0.005317\n",
      "iteration 1800\t\tg: 1.618984\t\tL:0.000002\t\tg:0.003628\n",
      "iteration 1900\t\tg: 1.618682\t\tL:0.000001\t\tg:0.002475\n",
      "\n",
      "Final guess for the golden ratio: 1.618476\n"
     ]
    }
   ],
   "source": [
    "# initial guess for g\n",
    "g = 0.1\n",
    "# YOUR CODE HERE\n",
    "r = 0.001\n",
    "# raise NotImplementedError()\n",
    "for i in range(2000):\n",
    "    if i % 100 == 0:\n",
    "        print(f\"iteration {i}\\t\\tg: {g:3f}\\t\\tL:{L(g):3f}\\t\\tg:{dL(g):3f}\")\n",
    "    # YOUR CODE HERE\n",
    "    g = g-r*dL(g)\n",
    "    # raise NotImplementedError()\n",
    "print(f\"\\nFinal guess for the golden ratio: {g:5f}\")"
   ]
  },
  {
   "cell_type": "code",
   "execution_count": 10,
   "id": "familiar-alexandria",
   "metadata": {
    "deletable": false,
    "editable": false,
    "nbgrader": {
     "checksum": "1dfc55dbe43f875154c51318a39f4084",
     "grade": true,
     "grade_id": "cell-f06d3dd934eacb59",
     "locked": true,
     "points": 5,
     "schema_version": 1,
     "solution": false
    }
   },
   "outputs": [],
   "source": [
    "# 5 pts\n",
    "np.testing.assert_approx_equal(g, 1.61, significant=3)"
   ]
  }
 ],
 "metadata": {
  "kernelspec": {
   "display_name": "Python 3",
   "language": "python",
   "name": "python3"
  },
  "language_info": {
   "codemirror_mode": {
    "name": "ipython",
    "version": 3
   },
   "file_extension": ".py",
   "mimetype": "text/x-python",
   "name": "python",
   "nbconvert_exporter": "python",
   "pygments_lexer": "ipython3",
   "version": "3.8.6"
  }
 },
 "nbformat": 4,
 "nbformat_minor": 5
}
